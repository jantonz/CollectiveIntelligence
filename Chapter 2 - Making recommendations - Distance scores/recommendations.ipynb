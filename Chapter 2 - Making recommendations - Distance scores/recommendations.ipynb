{
 "cells": [
  {
   "cell_type": "markdown",
   "metadata": {},
   "source": [
    "# Collective Intelligence\n",
    "\n",
    "## Chapter 2: Making recommendations\n",
    "\n",
    "### Summary\n",
    "\n",
    "This is the implementation of a movie recommendation system. It takes information from a small dictionary with the names of movie critics and their 1-5 star score of several movies; this dictionary also has the user (Toby) 1-5 star score of several movies. A distance score between movie critics is calculated through 2 methods. Critics are ranked for similarity to Toby."
   ]
  },
  {
   "cell_type": "markdown",
   "metadata": {},
   "source": [
    "Nested dictionary of movie critics and their ratings of a small set of movies."
   ]
  },
  {
   "cell_type": "code",
   "execution_count": null,
   "metadata": {
    "collapsed": true
   },
   "outputs": [],
   "source": [
    "critics={\"Lisa Rose\": {\"Lady in the Water\": 2.5, \"Snakes on a Plane\": 3.5, \"Just My Luck\": 3.0, \"Superman Returns\": 3.5, \"You, Me and Dupree\": 2.5, \"The Night Listener\": 3.0}, \"Gene Seymour\": {\"Lady in the Water\": 2.5, \"Snakes on a Plane\": 3.5, \"Just My Luck\": 1.5, \"Superman Returns\": 5.0, \"The Night Listener\": 3.0, \"You, Me and Dupree\": 3.5}, \"Michael Philipps\": {\"Lady in the Water\": 2.5, \"Snakes on a Plane\": 3.0, \"Superman Returns\": 3.5, \"The Night Listener\": 4.0, \"You, Me and Dupree\": 2.5}, \"Mick LaSalle\": {\"Lady in the Water\": 3.0, \"Snakes on a Plane\": 3.5, \"Just My Luck\": 2.0, \"Superman Returns\": 3.0, \"The Night Listener\": 3.0, \"You, Me and Dupree\": 2.0}, \"Jack Mathews\": {\"Lady in the Water\": 3.0, \"Snakes on a Plane\": 4.0, \"The Night Listener\": 3.0, \"Supermant Returns\": 5.0, \"You, Me and Dupree\": 3.5}, \"Toby\": {\"Snakes on a Plane\": 4.5, \"You, Me and Dupree\": 1.0, \"Superman Returns\": 4.0}}"
   ]
  },
  {
   "cell_type": "markdown",
   "metadata": {},
   "source": [
    "### Euclidean distance score\n",
    "This returns a distance-based similarity score for person1 and person2 following the equation of Euclidean distance:\n",
    "$$\\sqrt{\\sum_{i=1}^{n} (p_{i} - q_{i})^2}$$"
   ]
  },
  {
   "cell_type": "code",
   "execution_count": null,
   "metadata": {
    "collapsed": true
   },
   "outputs": [],
   "source": [
    "from math import sqrt\n",
    "\n",
    "def sim_distance(prefs, person1, person2):\n",
    "    # \"prefs\" is the dictionary name \n",
    "    # Get the list of shared items (si)\n",
    "    si = {}\n",
    "    for item in prefs[person1]:\n",
    "        if item in prefs[person2]:\n",
    "            si[item] = 1\n",
    "    \n",
    "    # If they have no item in comon, return 0\n",
    "    if len(si)==0: return 0\n",
    "   \n",
    "    # Add up the squares of all the differences\n",
    "    sum_of_squares = sum([pow(prefs[person1][item]-prefs[person2][item], 2) \n",
    "                        for item in prefs[person1] if item in prefs[person2]])\n",
    "    return 1 / (1 + sqrt(sum_of_squares))\n",
    "    # The list of shared items \"si\" has not been used so far\n"
   ]
  },
  {
   "cell_type": "markdown",
   "metadata": {},
   "source": [
    "### Pearson correlation score\n",
    "This returns the Pearson correlation coefficient between p1 and p2 following the equation of Pearson score:\n",
    "$$r = \\frac{\\sum XY - \\frac{\\sum X \\sum Y}{N}}{\\sqrt{\\left( \\sum X^2 - \\frac{(\\sum X)^2}{N}\\right)\\left(\\sum Y^2-\\frac{(\\sum Y)^2}{N}\\right)}}$$\n"
   ]
  },
  {
   "cell_type": "code",
   "execution_count": null,
   "metadata": {
    "collapsed": true
   },
   "outputs": [],
   "source": [
    "def sim_pearson(prefs, p1, p2):\n",
    "    # \"prefs\" is the dictionary name\n",
    "    # Get the list of shared items (si)\n",
    "    si = {}\n",
    "    for item in prefs[p1]:\n",
    "        if item in prefs[p2]:\n",
    "            si[item] = 1\n",
    "    \n",
    "    # Find the number of similar elements         \n",
    "    n = len(si)\n",
    "    \n",
    "    # If the number of similar elements (ratings in common) is 0, return 0\n",
    "    if n == 0: return 0\n",
    "    \n",
    "    # Add up all the preferences\n",
    "    sum1 = sum([prefs[p1][it] for it in si])\n",
    "    sum2 = sum([prefs[p2][it] for it in si])\n",
    "    \n",
    "    # Sum up the squares\n",
    "    sum1Sq = sum([pow(prefs[p1][it], 2) for it in si])\n",
    "    sum2Sq = sum([pow(prefs[p2][it], 2) for it in si])\n",
    "\n",
    "    # Sum up the products\n",
    "    pSum = sum([prefs[p1][it] * prefs[p2][it] for it in si])\n",
    "    \n",
    "    # Calculate Pearson score\n",
    "    num = pSum - (sum1 * sum2 / n) # numerator\n",
    "    den = sqrt((sum1Sq - pow(sum1, 2)/n) * (sum2Sq - pow(sum2, 2)/n)) # denominator\n",
    "    if den == 0: return 0\n",
    "    \n",
    "    r = num / den\n",
    "    \n",
    "    return r\n"
   ]
  },
  {
   "cell_type": "markdown",
   "metadata": {},
   "source": [
    "### Ranking the critics"
   ]
  },
  {
   "cell_type": "markdown",
   "metadata": {},
   "source": [
    "Returns the best matches for person from the prefs dictionary. Number of results and similarity are optional parameters.\n"
   ]
  },
  {
   "cell_type": "code",
   "execution_count": null,
   "metadata": {
    "collapsed": true
   },
   "outputs": [],
   "source": [
    "def topMatches(prefs, person, n = 5, similarity = sim_pearson):\n",
    "    scores = [(similarity(prefs, person, other), other) for other in prefs if other != person]\n",
    "    \n",
    "    #Sort the list so the highest scores appear at the top\n",
    "    scores.sort()\n",
    "    scores.reverse()\n",
    "    return scores[0:n]"
   ]
  },
  {
   "cell_type": "markdown",
   "metadata": {},
   "source": [
    "### Recommending items"
   ]
  },
  {
   "cell_type": "markdown",
   "metadata": {},
   "source": [
    "Gets recommendations for a person by using a weighting average of every other user's rankings."
   ]
  },
  {
   "cell_type": "markdown",
   "metadata": {},
   "source": [
    "This code loops through every other person in the prefs dictionary. In each case, it calculates how similar they are to the person specified. It then loops through every item for which they've given a score. The score for each item is multiplied by the similarity and these products are added together. The scores are normalized by dividing by the similarity sum and the sorted results are returned.\n"
   ]
  },
  {
   "cell_type": "code",
   "execution_count": null,
   "metadata": {
    "collapsed": true
   },
   "outputs": [],
   "source": [
    "def getRecommendations(prefs, person, similarity = sim_pearson):\n",
    "    totals = {}\n",
    "    simSums = {}\n",
    "    for other in prefs:\n",
    "        # Don't compare it to myself\n",
    "        if other == person: continue\n",
    "        sim = similarity(prefs, person, other)\n",
    "        \n",
    "        # Ignore scores of zero or lower\n",
    "        if sim =< 0: continue\n",
    "        for item in prefs[other]: # Loop through every item\n",
    "            \n",
    "            # Only scores movies I haven't seen yet\n",
    "            if item not in prefs[person] or prefs[person][item] == 0:\n",
    "                \n",
    "                # Similarity * Score\n",
    "                totals.setdefault(item, 0)\n",
    "                totals[item] += prefs[other][item]*sim\n",
    "                \n",
    "                # Sum of similarities\n",
    "                simSums.setdefault(item, 0)\n",
    "                simSums[item] += sim # simSums = simSums + sim\n",
    "                \n",
    "    # Create the normalized list\n",
    "    rankings = [(total / simSums[item], item) for item,total in totals.items()]\n",
    "    \n",
    "    # Return the sorted list\n",
    "    rankings.sort()\n",
    "    rankings.reverse()\n",
    "    return rankings"
   ]
  }
 ],
 "metadata": {
  "kernelspec": {
   "display_name": "Python 3",
   "language": "python",
   "name": "python3"
  },
  "language_info": {
   "codemirror_mode": {
    "name": "ipython",
    "version": 3
   },
   "file_extension": ".py",
   "mimetype": "text/x-python",
   "name": "python",
   "nbconvert_exporter": "python",
   "pygments_lexer": "ipython3",
   "version": "3.6.3"
  }
 },
 "nbformat": 4,
 "nbformat_minor": 2
}
