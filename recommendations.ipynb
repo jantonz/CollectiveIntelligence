{
 "cells": [
  {
   "cell_type": "markdown",
   "metadata": {},
   "source": [
    "# Collective Intelligence\n",
    "\n",
    "## Chapter 2: Making recommendations\n",
    "\n",
    "### Summary\n",
    "\n",
    "This is the implementation of a movie recommendation system. It takes information from a small dictionary with the names of movie critics and their 1-5 star score of several movies; this dictionary also has the user (Toby) 1-5 star score of several movies. A distance score between movie critics is calculated through 2 methods. Critics are ranked for similarity to Toby."
   ]
  },
  {
   "cell_type": "markdown",
   "metadata": {},
   "source": [
    "Nested dictionary of movie critics and their ratings of a small set of movies."
   ]
  },
  {
   "cell_type": "code",
   "execution_count": null,
   "metadata": {
    "collapsed": true
   },
   "outputs": [],
   "source": [
    "critics={\"Lisa Rose\": {\"Lady in the Water\": 2.5, \"Snakes on a Plane\": 3.5, \"Just My Luck\": 3.0, \"Superman Returns\": 3.5, \"You, Me and Dupree\": 2.5, \"The Night Listener\": 3.0}, \"Gene Seymour\": {\"Lady in the Water\": 2.5, \"Snakes on a Plane\": 3.5, \"Just My Luck\": 1.5, \"Superman Returns\": 5.0, \"The Night Listener\": 3.0, \"You, Me and Dupree\": 3.5}, \"Michael Philipps\": {\"Lady in the Water\": 2.5, \"Snakes on a Plane\": 3.0, \"Superman Returns\": 3.5, \"The Night Listener\": 4.0, \"You, Me and Dupree\": 2.5}, \"Mick LaSalle\": {\"Lady in the Water\": 3.0, \"Snakes on a Plane\": 3.5, \"Just My Luck\": 2.0, \"Superman Returns\": 3.0, \"The Night Listener\": 3.0, \"You, Me and Dupree\": 2.0}, \"Jack Mathews\": {\"Lady in the Water\": 3.0, \"Snakes on a Plane\": 4.0, \"The Night Listener\": 3.0, \"Supermant Returns\": 5.0, \"You, Me and Dupree\": 3.5}, \"Toby\": {\"Snakes on a Plane\": 4.5, \"You, Me and Dupree\": 1.0, \"Superman Returns\": 4.0}}"
   ]
  },
  {
   "cell_type": "markdown",
   "metadata": {},
   "source": [
    "### Euclidean distance score\n",
    "This returns a distance-based similarity score for person1 and person2 following the equation of Euclidean distance:\n",
    "$$\\sqrt{\\sum_{i=1}^{n} (p_{i} - q_{i})^2}$$"
   ]
  },
  {
   "cell_type": "code",
   "execution_count": null,
   "metadata": {
    "collapsed": true
   },
   "outputs": [],
   "source": [
    "from math import sqrt\n",
    "\n",
    "def sim_distance(prefs, person1, person2):\n",
    "    # \"prefs\" is the dictionary name \n",
    "    # Get the list of shared items (si)\n",
    "    si = {}\n",
    "    for item in prefs[person1]:\n",
    "        if item in prefs[person2]:\n",
    "            si[item] = 1\n",
    "    \n",
    "    # If they have no item in comon, return 0\n",
    "    if len(si)==0: return 0\n",
    "   \n",
    "    # Add up the squares of all the differences\n",
    "    sum_of_squares = sum([pow(prefs[person1][item]-prefs[person2][item], 2) \n",
    "                        for item in prefs[person1] if item in prefs[person2]])\n",
    "    return 1 / (1 + sqrt(sum_of_squares))\n",
    "    # The list of shared items \"si\" has not been used so far\n"
   ]
  },
  {
   "cell_type": "markdown",
   "metadata": {},
   "source": [
    "### Pearson correlation score\n",
    "This returns the Pearson correlation coefficient between p1 and p2 following the equation of Pearson score:\n",
    "$$r = \\frac{\\sum XY - \\frac{\\sum X \\sum Y}{N}}{\\sqrt{\\left( \\sum X^2 - \\frac{(\\sum X)^2}{N}\\right)\\left(\\sum Y^2-\\frac{(\\sum Y)^2}{N}\\right)}}$$\n"
   ]
  },
  {
   "cell_type": "code",
   "execution_count": null,
   "metadata": {
    "collapsed": true
   },
   "outputs": [],
   "source": [
    "def sim_pearson(prefs, p1, p2):\n",
    "    # \"prefs\" is the dictionary name\n",
    "    # Get the list of shared items (si)\n",
    "    si = {}\n",
    "    for item in prefs[p1]:\n",
    "        if item in prefs[p2]:\n",
    "            si[item] = 1\n",
    "    \n",
    "    # Find the number of similar elements         \n",
    "    n = len(si)\n",
    "    \n",
    "    # If the number of similar elements (ratings in common) is 0, return 0\n",
    "    if n == 0: return 0\n",
    "    \n",
    "    # Add up all the preferences\n",
    "    sum1 = sum([prefs[p1][it] for it in si])\n",
    "    sum2 = sum([prefs[p2][it] for it in si])\n",
    "    \n",
    "    # Sum up the squares\n",
    "    sum1Sq = sum([pow(prefs[p1][it], 2) for it in si])\n",
    "    sum2Sq = sum([pow(prefs[p2][it], 2) for it in si])\n",
    "\n",
    "    # Sum up the products\n",
    "    pSum = sum([prefs[p1][it] * prefs[p2][it] for it in si])\n",
    "    \n",
    "    # Calculate Pearson score\n",
    "    num = pSum - (sum1 * sum2 / n) # numerator\n",
    "    den = sqrt((sum1Sq - pow(sum1, 2)/n) * (sum2Sq - pow(sum2, 2)/n)) # denominator\n",
    "    if den == 0: return 0\n",
    "    \n",
    "    r = num / den\n",
    "    \n",
    "    return r\n"
   ]
  },
  {
   "cell_type": "markdown",
   "metadata": {},
   "source": [
    "### Ranking the critics"
   ]
  }
 ],
 "metadata": {
  "kernelspec": {
   "display_name": "Python 3",
   "language": "python",
   "name": "python3"
  },
  "language_info": {
   "codemirror_mode": {
    "name": "ipython",
    "version": 3
   },
   "file_extension": ".py",
   "mimetype": "text/x-python",
   "name": "python",
   "nbconvert_exporter": "python",
   "pygments_lexer": "ipython3",
   "version": "3.6.3"
  }
 },
 "nbformat": 4,
 "nbformat_minor": 2
}
